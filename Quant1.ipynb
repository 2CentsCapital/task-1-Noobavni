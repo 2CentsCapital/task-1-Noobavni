{
 "cells": [
  {
   "cell_type": "code",
   "execution_count": 40,
   "metadata": {},
   "outputs": [],
   "source": [
    "import pandas as pd\n",
    "import numpy as np\n"
   ]
  },
  {
   "cell_type": "code",
   "execution_count": 41,
   "metadata": {},
   "outputs": [
    {
     "data": {
      "text/html": [
       "<div>\n",
       "<style scoped>\n",
       "    .dataframe tbody tr th:only-of-type {\n",
       "        vertical-align: middle;\n",
       "    }\n",
       "\n",
       "    .dataframe tbody tr th {\n",
       "        vertical-align: top;\n",
       "    }\n",
       "\n",
       "    .dataframe thead th {\n",
       "        text-align: right;\n",
       "    }\n",
       "</style>\n",
       "<table border=\"1\" class=\"dataframe\">\n",
       "  <thead>\n",
       "    <tr style=\"text-align: right;\">\n",
       "      <th></th>\n",
       "      <th>Date</th>\n",
       "      <th>Open</th>\n",
       "      <th>High</th>\n",
       "      <th>Low</th>\n",
       "      <th>Close</th>\n",
       "      <th>Adj Close</th>\n",
       "      <th>Volume</th>\n",
       "    </tr>\n",
       "  </thead>\n",
       "  <tbody>\n",
       "    <tr>\n",
       "      <th>0</th>\n",
       "      <td>18/11/99</td>\n",
       "      <td>32.546494</td>\n",
       "      <td>35.765381</td>\n",
       "      <td>28.612303</td>\n",
       "      <td>31.473534</td>\n",
       "      <td>26.652395</td>\n",
       "      <td>62546380</td>\n",
       "    </tr>\n",
       "    <tr>\n",
       "      <th>1</th>\n",
       "      <td>19/11/99</td>\n",
       "      <td>30.713518</td>\n",
       "      <td>30.758226</td>\n",
       "      <td>28.478184</td>\n",
       "      <td>28.880545</td>\n",
       "      <td>24.456600</td>\n",
       "      <td>15234146</td>\n",
       "    </tr>\n",
       "    <tr>\n",
       "      <th>2</th>\n",
       "      <td>22/11/99</td>\n",
       "      <td>29.551144</td>\n",
       "      <td>31.473534</td>\n",
       "      <td>28.657009</td>\n",
       "      <td>31.473534</td>\n",
       "      <td>26.652395</td>\n",
       "      <td>6577870</td>\n",
       "    </tr>\n",
       "    <tr>\n",
       "      <th>3</th>\n",
       "      <td>23/11/99</td>\n",
       "      <td>30.400572</td>\n",
       "      <td>31.205294</td>\n",
       "      <td>28.612303</td>\n",
       "      <td>NaN</td>\n",
       "      <td>24.229446</td>\n",
       "      <td>5975611</td>\n",
       "    </tr>\n",
       "    <tr>\n",
       "      <th>4</th>\n",
       "      <td>24/11/99</td>\n",
       "      <td>28.701717</td>\n",
       "      <td>29.998213</td>\n",
       "      <td>28.612303</td>\n",
       "      <td>29.372318</td>\n",
       "      <td>24.873049</td>\n",
       "      <td>4843231</td>\n",
       "    </tr>\n",
       "    <tr>\n",
       "      <th>...</th>\n",
       "      <td>...</td>\n",
       "      <td>...</td>\n",
       "      <td>...</td>\n",
       "      <td>...</td>\n",
       "      <td>...</td>\n",
       "      <td>...</td>\n",
       "      <td>...</td>\n",
       "    </tr>\n",
       "    <tr>\n",
       "      <th>6172</th>\n",
       "      <td>03/06/24</td>\n",
       "      <td>130.000000</td>\n",
       "      <td>132.580002</td>\n",
       "      <td>130.000000</td>\n",
       "      <td>131.399994</td>\n",
       "      <td>131.399994</td>\n",
       "      <td>3114800</td>\n",
       "    </tr>\n",
       "    <tr>\n",
       "      <th>6173</th>\n",
       "      <td>04/06/24</td>\n",
       "      <td>131.240005</td>\n",
       "      <td>132.250000</td>\n",
       "      <td>130.279999</td>\n",
       "      <td>130.850006</td>\n",
       "      <td>130.850006</td>\n",
       "      <td>2893700</td>\n",
       "    </tr>\n",
       "    <tr>\n",
       "      <th>6174</th>\n",
       "      <td>05/06/24</td>\n",
       "      <td>130.539993</td>\n",
       "      <td>134.199997</td>\n",
       "      <td>130.009995</td>\n",
       "      <td>133.559998</td>\n",
       "      <td>133.559998</td>\n",
       "      <td>2707500</td>\n",
       "    </tr>\n",
       "    <tr>\n",
       "      <th>6175</th>\n",
       "      <td>06/06/24</td>\n",
       "      <td>132.460007</td>\n",
       "      <td>134.350006</td>\n",
       "      <td>132.279999</td>\n",
       "      <td>132.820007</td>\n",
       "      <td>132.820007</td>\n",
       "      <td>2269600</td>\n",
       "    </tr>\n",
       "    <tr>\n",
       "      <th>6176</th>\n",
       "      <td>07/06/24</td>\n",
       "      <td>131.949997</td>\n",
       "      <td>133.380005</td>\n",
       "      <td>131.289993</td>\n",
       "      <td>132.979996</td>\n",
       "      <td>132.979996</td>\n",
       "      <td>2365300</td>\n",
       "    </tr>\n",
       "  </tbody>\n",
       "</table>\n",
       "<p>6177 rows × 7 columns</p>\n",
       "</div>"
      ],
      "text/plain": [
       "          Date        Open        High         Low       Close   Adj Close  \\\n",
       "0     18/11/99   32.546494   35.765381   28.612303   31.473534   26.652395   \n",
       "1     19/11/99   30.713518   30.758226   28.478184   28.880545   24.456600   \n",
       "2     22/11/99   29.551144   31.473534   28.657009   31.473534   26.652395   \n",
       "3     23/11/99   30.400572   31.205294   28.612303         NaN   24.229446   \n",
       "4     24/11/99   28.701717   29.998213   28.612303   29.372318   24.873049   \n",
       "...        ...         ...         ...         ...         ...         ...   \n",
       "6172  03/06/24  130.000000  132.580002  130.000000  131.399994  131.399994   \n",
       "6173  04/06/24  131.240005  132.250000  130.279999  130.850006  130.850006   \n",
       "6174  05/06/24  130.539993  134.199997  130.009995  133.559998  133.559998   \n",
       "6175  06/06/24  132.460007  134.350006  132.279999  132.820007  132.820007   \n",
       "6176  07/06/24  131.949997  133.380005  131.289993  132.979996  132.979996   \n",
       "\n",
       "        Volume  \n",
       "0     62546380  \n",
       "1     15234146  \n",
       "2      6577870  \n",
       "3      5975611  \n",
       "4      4843231  \n",
       "...        ...  \n",
       "6172   3114800  \n",
       "6173   2893700  \n",
       "6174   2707500  \n",
       "6175   2269600  \n",
       "6176   2365300  \n",
       "\n",
       "[6177 rows x 7 columns]"
      ]
     },
     "execution_count": 41,
     "metadata": {},
     "output_type": "execute_result"
    }
   ],
   "source": [
    "stocks= pd.read_csv(\"DataCleaning.csv\")\n",
    "stocks"
   ]
  },
  {
   "cell_type": "code",
   "execution_count": 42,
   "metadata": {},
   "outputs": [
    {
     "name": "stdout",
     "output_type": "stream",
     "text": [
      "Date          0\n",
      "Open          0\n",
      "High          6\n",
      "Low          11\n",
      "Close         9\n",
      "Adj Close     2\n",
      "Volume        0\n",
      "dtype: int64\n"
     ]
    }
   ],
   "source": [
    "print(stocks.isnull().sum())\n"
   ]
  },
  {
   "cell_type": "code",
   "execution_count": 43,
   "metadata": {},
   "outputs": [
    {
     "name": "stdout",
     "output_type": "stream",
     "text": [
      "0\n"
     ]
    }
   ],
   "source": [
    "print(stocks.duplicated().sum())"
   ]
  },
  {
   "cell_type": "code",
   "execution_count": 44,
   "metadata": {},
   "outputs": [
    {
     "data": {
      "text/plain": [
       "True"
      ]
     },
     "execution_count": 44,
     "metadata": {},
     "output_type": "execute_result"
    }
   ],
   "source": [
    "stocks.index.is_monotonic_increasing"
   ]
  },
  {
   "cell_type": "code",
   "execution_count": 48,
   "metadata": {},
   "outputs": [],
   "source": [
    "# stocks[\"Close\"] =stocks['Close'].interpolate(method='linear',limit_direction='both')\n",
    "stocks[\"Close\"]=stocks['Close'].interpolate(method='polynomial', order=2,limit_direction=\"both\")\n",
    "# stocks[\"Close\"]=stocks['Close'].interpolate(method='spline', order=3)"
   ]
  },
  {
   "cell_type": "code",
   "execution_count": 49,
   "metadata": {},
   "outputs": [
    {
     "data": {
      "text/plain": [
       "0"
      ]
     },
     "execution_count": 49,
     "metadata": {},
     "output_type": "execute_result"
    }
   ],
   "source": [
    "stocks[\"Close\"].isnull().sum()\n"
   ]
  },
  {
   "cell_type": "code",
   "execution_count": 50,
   "metadata": {},
   "outputs": [],
   "source": [
    "stocks[\"High\"]=stocks[\"High\"].interpolate(method='polynomial', order=2,limit_direction=\"both\")\n",
    "stocks[\"Low\"]=stocks[\"Low\"].interpolate(method='polynomial', order=2,limit_direction=\"both\")\n",
    "stocks[\"Adj Close\"]=stocks[\"Adj Close\"].interpolate(method='polynomial', order=2,limit_direction=\"both\")"
   ]
  },
  {
   "cell_type": "code",
   "execution_count": 51,
   "metadata": {},
   "outputs": [
    {
     "data": {
      "text/plain": [
       "Date         0\n",
       "Open         0\n",
       "High         0\n",
       "Low          0\n",
       "Close        0\n",
       "Adj Close    0\n",
       "Volume       0\n",
       "dtype: int64"
      ]
     },
     "execution_count": 51,
     "metadata": {},
     "output_type": "execute_result"
    }
   ],
   "source": [
    "stocks.isnull().sum()"
   ]
  },
  {
   "cell_type": "code",
   "execution_count": 66,
   "metadata": {},
   "outputs": [],
   "source": [
    "stocks.to_csv(\"CleanedData\")"
   ]
  },
  {
   "cell_type": "code",
   "execution_count": 52,
   "metadata": {},
   "outputs": [],
   "source": [
    "stocks[\"return\"]=stocks[\"Close\"].pct_change()"
   ]
  },
  {
   "cell_type": "code",
   "execution_count": 54,
   "metadata": {},
   "outputs": [
    {
     "data": {
      "text/plain": [
       "<Axes: >"
      ]
     },
     "execution_count": 54,
     "metadata": {},
     "output_type": "execute_result"
    },
    {
     "data": {
      "image/png": "[encoded data removed]",
      "text/plain": [
       "<Figure size 640x480 with 1 Axes>"
      ]
     },
     "metadata": {},
     "output_type": "display_data"
    }
   ],
   "source": [
    "stocks.Close.plot()"
   ]
  },
  {
   "cell_type": "code",
   "execution_count": 55,
   "metadata": {},
   "outputs": [
    {
     "data": {
      "text/plain": [
       "<Axes: >"
      ]
     },
     "execution_count": 55,
     "metadata": {},
     "output_type": "execute_result"
    },
    {
     "data": {
      "image/png": "[encoded data removed]",
      "text/plain": [
       "<Figure size 640x480 with 1 Axes>"
      ]
     },
     "metadata": {},
     "output_type": "display_data"
    }
   ],
   "source": [
    "stocks[\"return\"].plot()"
   ]
  },
  {
   "cell_type": "code",
   "execution_count": 61,
   "metadata": {},
   "outputs": [
    {
     "name": "stdout",
     "output_type": "stream",
     "text": [
      "0.021840506976589336\n"
     ]
    }
   ],
   "source": [
    "print(stocks[\"return\"].mean()/stocks[\"return\"].std())"
   ]
  },
  {
   "cell_type": "code",
   "execution_count": 63,
   "metadata": {},
   "outputs": [
    {
     "name": "stdout",
     "output_type": "stream",
     "text": [
      "0.0011448764496672186\n"
     ]
    }
   ],
   "source": [
    "down_ret =stocks[\"return\"]<0\n",
    "print(stocks[\"return\"].mean()/down_ret.std())"
   ]
  },
  {
   "cell_type": "code",
   "execution_count": 65,
   "metadata": {},
   "outputs": [
    {
     "name": "stdout",
     "output_type": "stream",
     "text": [
      "-0.0006138371295035552\n"
     ]
    }
   ],
   "source": [
    "cumulative_returns = (1 + stocks[\"return\"]).cumprod()\n",
    "max_drawdown = (cumulative_returns / cumulative_returns.cummax() - 1).min()\n",
    "print(stocks[\"return\"].mean()/max_drawdown)"
   ]
  },
  {
   "cell_type": "code",
   "execution_count": null,
   "metadata": {},
   "outputs": [],
   "source": []
  },
  {
   "cell_type": "code",
   "execution_count": null,
   "metadata": {},
   "outputs": [],
   "source": []
  }
 ],
 "metadata": {
  "kernelspec": {
   "display_name": "Python 3",
   "language": "python",
   "name": "python3"
  },
  "language_info": {
   "codemirror_mode": {
    "name": "ipython",
    "version": 3
   },
   "file_extension": ".py",
   "mimetype": "text/x-python",
   "name": "python",
   "nbconvert_exporter": "python",
   "pygments_lexer": "ipython3",
   "version": "3.11.5"
  }
 },
 "nbformat": 4,
 "nbformat_minor": 2
}
